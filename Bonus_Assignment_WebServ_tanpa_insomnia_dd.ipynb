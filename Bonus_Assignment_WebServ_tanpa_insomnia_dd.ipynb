{
  "nbformat": 4,
  "nbformat_minor": 0,
  "metadata": {
    "colab": {
      "name": "Bonus Assignment_WebServ_tanpa_insomnia_dd.ipynb",
      "provenance": [],
      "collapsed_sections": []
    },
    "kernelspec": {
      "name": "python3",
      "display_name": "Python 3"
    }
  },
  "cells": [
    {
      "cell_type": "code",
      "metadata": {
        "id": "7saBdFu7m_jx"
      },
      "source": [
        "#Panggil web service langsung tanpa Insomnia\n",
        "import requests\n",
        "import json\n",
        "import cv2 as cv\n",
        "import matplotlib.pyplot as plt\n"
      ],
      "execution_count": 17,
      "outputs": []
    },
    {
      "cell_type": "code",
      "metadata": {
        "id": "LnAUSsRnnGIq"
      },
      "source": [
        "#Jika ingin upload gambar, input directory gambar pada file_path\n",
        "#atau upload sendiri ke content google colab\n",
        "\n",
        "url = 'http://2df71669a6c5.ngrok.io/classify'\n",
        "\n",
        "data = {\n",
        "\t\"file_path\": '/content/sample2.jpg' ,\n",
        "}\n",
        "\n",
        "json_response = requests.post(url,  json=data)\n",
        "json_response\n",
        "response = json.loads(json_response.text)"
      ],
      "execution_count": 23,
      "outputs": []
    },
    {
      "cell_type": "code",
      "metadata": {
        "id": "AyDfOZt5nIN5",
        "outputId": "49952c97-925e-4b57-a912-0555a54384dd",
        "colab": {
          "base_uri": "https://localhost:8080/"
        }
      },
      "source": [
        "response"
      ],
      "execution_count": 24,
      "outputs": [
        {
          "output_type": "execute_result",
          "data": {
            "text/plain": [
              "{'output': '2'}"
            ]
          },
          "metadata": {
            "tags": []
          },
          "execution_count": 24
        }
      ]
    }
  ]
}